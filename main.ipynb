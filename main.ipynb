{
 "cells": [
  {
   "cell_type": "code",
   "execution_count": 3,
   "id": "485cf85c-1494-4104-b4d9-1185afec632d",
   "metadata": {},
   "outputs": [
    {
     "name": "stderr",
     "output_type": "stream",
     "text": [
      "C:\\Users\\Tirth Desai\\AppData\\Local\\Programs\\Python\\Python312\\Lib\\site-packages\\tqdm\\auto.py:21: TqdmWarning: IProgress not found. Please update jupyter and ipywidgets. See https://ipywidgets.readthedocs.io/en/stable/user_install.html\n",
      "  from .autonotebook import tqdm as notebook_tqdm\n"
     ]
    }
   ],
   "source": [
    "import modelbit\n",
    "import json\n",
    "import urllib.request\n",
    "from transformers import AutoModelForImageClassification, AutoFeatureExtractor, pipeline\n",
    "from PIL import Image\n",
    "import requests\n",
    "import torch\n",
    "import urllib\n",
    "from torchvision import transforms, datasets\n",
    "import random\n",
    "import numpy as np\n",
    "import os\n",
    "import time"
   ]
  },
  {
   "cell_type": "code",
   "execution_count": 2,
   "id": "2ea896e3-d0a8-4353-bc39-8d1fd8ce35d7",
   "metadata": {},
   "outputs": [
    {
     "data": {
      "text/html": [
       "\n",
       "<div style=\"margin: 0; padding: 5px; line-height: 1.75; font-size: 14px; vertical-align: baseline; list-style: none; font-family: Roboto, Arial, sans-serif; background: none;\">\n",
       "  <div style=\"margin: 0; padding: 0; line-height: 1.75; font-size: 14px; vertical-align: baseline; list-style: none; font-family: Roboto, Arial, sans-serif; background: none;\">\n",
       "    You're <span style=\"margin: 0; padding: 0; line-height: 1.75; font-size: 14px; vertical-align: baseline; list-style: none; font-family: Roboto, Arial, sans-serif; background: none; color: #15803d; font-weight: bold;\">connected</span> to Modelbit as tirthrdesai05@gmail.com.\n",
       "    Workspace: <span style=\"margin: 0; padding: 0; line-height: 1.75; font-size: 14px; vertical-align: baseline; list-style: none; font-family: monospace; background: none; font-weight: bold; color: #845B99;\">tirthdesai</span>.\n",
       "    \n",
       "      Region: <span style=\"margin: 0; padding: 0; line-height: 1.75; font-size: 14px; vertical-align: baseline; list-style: none; font-family: monospace; background: none; font-weight: bold; color: #845B99;\">us-east-2</span>\n",
       "    \n",
       "    Branch: <span style=\"margin: 0; padding: 0; line-height: 1.75; font-size: 14px; vertical-align: baseline; list-style: none; font-family: monospace; background: none; font-weight: bold; color: #845B99;\">main</span>\n",
       "\t</div>\n",
       "  \n",
       "\n",
       "\n",
       "\n",
       "\n",
       "\n",
       "\n",
       "</div>"
      ],
      "text/plain": [
       "<IPython.core.display.HTML object>"
      ]
     },
     "metadata": {},
     "output_type": "display_data"
    },
    {
     "data": {
      "text/html": [],
      "text/plain": [
       "<module 'modelbit' from 'C:\\\\Users\\\\Tirth Desai\\\\AppData\\\\Local\\\\Programs\\\\Python\\\\Python312\\\\Lib\\\\site-packages\\\\modelbit\\\\__init__.py'>"
      ]
     },
     "execution_count": 2,
     "metadata": {},
     "output_type": "execute_result"
    }
   ],
   "source": [
    "modelbit.login()"
   ]
  },
  {
   "cell_type": "code",
   "execution_count": 4,
   "id": "194db94e-1078-4150-920a-004f99c982aa",
   "metadata": {},
   "outputs": [],
   "source": [
    "model = AutoModelForImageClassification.from_pretrained('model')"
   ]
  },
  {
   "cell_type": "code",
   "execution_count": 5,
   "id": "d9e6fe2b-aae3-4d5f-ba6c-f31c17d515f6",
   "metadata": {},
   "outputs": [],
   "source": [
    "def predict(image_path, classLabels):\n",
    "    try:\n",
    "        data_transforms = transforms.Compose([\n",
    "            transforms.Resize((224, 224)),\n",
    "            transforms.ToTensor(),\n",
    "        ])\n",
    "\n",
    "        image = Image.open(urllib.request.urlopen(image_path))\n",
    "        image = data_transforms(image).unsqueeze(0)\n",
    "\n",
    "        # Predict the class\n",
    "        with torch.no_grad():\n",
    "            outputs = model(image)\n",
    "            predictions = torch.argmax(outputs.logits, dim=1)\n",
    "\n",
    "        # Convert prediction to class label\n",
    "        idx_to_class = {v: k for k, v in classLabels.items()}\n",
    "        prediction = idx_to_class[predictions.item()]\n",
    "\n",
    "        return {\n",
    "            \"Message\": \"Success\",\n",
    "            \"Prediction\": prediction\n",
    "        }\n",
    "    except Exception as e:\n",
    "        return {\n",
    "            \"Message\": \"Error Occurred\",\n",
    "            \"Error\": str(e)\n",
    "        }\n",
    "\n"
   ]
  },
  {
   "cell_type": "code",
   "execution_count": 7,
   "id": "5aa6045e-933f-4749-a063-39d966720409",
   "metadata": {},
   "outputs": [],
   "source": [
    "def makePrediction(image_url):\n",
    "    with open('model/classnames.json', 'r') as f:\n",
    "        classLabels = json.load(f)\n",
    "        f.close()\n",
    "    return predict(image_url, classLabels)"
   ]
  },
  {
   "cell_type": "code",
   "execution_count": 11,
   "id": "d6b067ca-0bae-44ca-b92a-76d0db27fec5",
   "metadata": {},
   "outputs": [
    {
     "data": {
      "text/html": [
       "<div style=\"margin: 0; padding: 5px; line-height: 1.75; font-size: 14px; vertical-align: baseline; list-style: none; font-family: Roboto, Arial, sans-serif; background: none;\">\n",
       "  <span style=\"margin: 0; padding: 0; line-height: 1.75; font-size: 14px; vertical-align: baseline; list-style: none; font-family: Roboto, Arial, sans-serif; background: none; color: #E2548A; font-weight: bold;\">Error:</span>\n",
       "  path is on mount &#39;C:&#39;, start on mount &#39;T:&#39;\n",
       "</div>"
      ],
      "text/plain": [
       "<IPython.core.display.HTML object>"
      ]
     },
     "metadata": {},
     "output_type": "display_data"
    }
   ],
   "source": [
    "modelbit.deploy(makePrediction)"
   ]
  },
  {
   "cell_type": "code",
   "execution_count": null,
   "id": "71de8a27-4ea1-4d9d-b80e-f54c1e229689",
   "metadata": {},
   "outputs": [],
   "source": []
  }
 ],
 "metadata": {
  "kernelspec": {
   "display_name": "Python 3 (ipykernel)",
   "language": "python",
   "name": "python3"
  },
  "language_info": {
   "codemirror_mode": {
    "name": "ipython",
    "version": 3
   },
   "file_extension": ".py",
   "mimetype": "text/x-python",
   "name": "python",
   "nbconvert_exporter": "python",
   "pygments_lexer": "ipython3",
   "version": "3.12.4"
  }
 },
 "nbformat": 4,
 "nbformat_minor": 5
}
